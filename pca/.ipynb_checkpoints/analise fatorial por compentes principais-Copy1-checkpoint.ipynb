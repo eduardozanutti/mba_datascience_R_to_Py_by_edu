{
 "cells": [
  {
   "cell_type": "markdown",
   "metadata": {},
   "source": [
    "# Principal Components Analisys - PCA"
   ]
  },
  {
   "cell_type": "code",
   "execution_count": 2,
   "metadata": {},
   "outputs": [],
   "source": [
    "import pandas as pd\n",
    "import numpy as np\n",
    "import matplotlib as mpl\n",
    "import matplotlib.pyplot as plt\n",
    "from sklearn.decomposition import PCA\n",
    "import os\n",
    "import seaborn as sns\n",
    "from sklearn.preprocessing import StandardScaler"
   ]
  },
  {
   "cell_type": "code",
   "execution_count": 3,
   "metadata": {},
   "outputs": [],
   "source": [
    "mpl.style.use('ggplot')"
   ]
  },
  {
   "cell_type": "code",
   "execution_count": 4,
   "metadata": {},
   "outputs": [],
   "source": [
    "datascience_folder = 'C:/Users/eduardo.zanutti/OneDrive - Apsen Farmaceutica S A/Documentos/MBA DataScience/'"
   ]
  },
  {
   "cell_type": "code",
   "execution_count": 5,
   "metadata": {},
   "outputs": [],
   "source": [
    "PCA_folder = 'Aula 7'"
   ]
  },
  {
   "cell_type": "code",
   "execution_count": 6,
   "metadata": {},
   "outputs": [],
   "source": [
    "PCA_path=str(datascience_folder)+str(PCA_folder)"
   ]
  },
  {
   "cell_type": "code",
   "execution_count": 7,
   "metadata": {},
   "outputs": [
    {
     "data": {
      "text/plain": [
       "'C:/Users/eduardo.zanutti/OneDrive - Apsen Farmaceutica S A/Documentos/MBA DataScience/Aula 7'"
      ]
     },
     "execution_count": 7,
     "metadata": {},
     "output_type": "execute_result"
    }
   ],
   "source": [
    "PCA_path"
   ]
  },
  {
   "cell_type": "code",
   "execution_count": 8,
   "metadata": {},
   "outputs": [],
   "source": [
    "notas_fatorial=os.path.join(PCA_path,'notasfatorial.txt')\n",
    "atlas_ambiental=os.path.join(PCA_path,'atlasambiental.RData')\n",
    "percepcao_lojas=os.path.join(PCA_path,'percepcao_lojas.RData')"
   ]
  },
  {
   "cell_type": "code",
   "execution_count": 9,
   "metadata": {},
   "outputs": [],
   "source": [
    "df_notas_fatorial=pd.read_table(notas_fatorial,sep=',',encoding = \"ISO-8859-1\").set_index('estudante')"
   ]
  },
  {
   "cell_type": "code",
   "execution_count": 10,
   "metadata": {},
   "outputs": [
    {
     "data": {
      "text/html": [
       "<div>\n",
       "<style scoped>\n",
       "    .dataframe tbody tr th:only-of-type {\n",
       "        vertical-align: middle;\n",
       "    }\n",
       "\n",
       "    .dataframe tbody tr th {\n",
       "        vertical-align: top;\n",
       "    }\n",
       "\n",
       "    .dataframe thead th {\n",
       "        text-align: right;\n",
       "    }\n",
       "</style>\n",
       "<table border=\"1\" class=\"dataframe\">\n",
       "  <thead>\n",
       "    <tr style=\"text-align: right;\">\n",
       "      <th></th>\n",
       "      <th>notas_financas</th>\n",
       "      <th>notas_custos</th>\n",
       "      <th>notas_marketing</th>\n",
       "      <th>notas_atuarias</th>\n",
       "    </tr>\n",
       "    <tr>\n",
       "      <th>estudante</th>\n",
       "      <th></th>\n",
       "      <th></th>\n",
       "      <th></th>\n",
       "      <th></th>\n",
       "    </tr>\n",
       "  </thead>\n",
       "  <tbody>\n",
       "    <tr>\n",
       "      <th>Gabriela</th>\n",
       "      <td>5.8</td>\n",
       "      <td>4.00</td>\n",
       "      <td>1.00</td>\n",
       "      <td>6.0</td>\n",
       "    </tr>\n",
       "    <tr>\n",
       "      <th>Luiz Felipe</th>\n",
       "      <td>3.1</td>\n",
       "      <td>3.00</td>\n",
       "      <td>10.00</td>\n",
       "      <td>2.0</td>\n",
       "    </tr>\n",
       "    <tr>\n",
       "      <th>Patrícia</th>\n",
       "      <td>3.1</td>\n",
       "      <td>4.00</td>\n",
       "      <td>4.00</td>\n",
       "      <td>4.0</td>\n",
       "    </tr>\n",
       "    <tr>\n",
       "      <th>Gustavo</th>\n",
       "      <td>10.0</td>\n",
       "      <td>8.00</td>\n",
       "      <td>8.00</td>\n",
       "      <td>8.0</td>\n",
       "    </tr>\n",
       "    <tr>\n",
       "      <th>Letícia</th>\n",
       "      <td>3.4</td>\n",
       "      <td>2.00</td>\n",
       "      <td>3.20</td>\n",
       "      <td>3.2</td>\n",
       "    </tr>\n",
       "    <tr>\n",
       "      <th>...</th>\n",
       "      <td>...</td>\n",
       "      <td>...</td>\n",
       "      <td>...</td>\n",
       "      <td>...</td>\n",
       "    </tr>\n",
       "    <tr>\n",
       "      <th>Sheila</th>\n",
       "      <td>7.7</td>\n",
       "      <td>4.33</td>\n",
       "      <td>5.16</td>\n",
       "      <td>5.1</td>\n",
       "    </tr>\n",
       "    <tr>\n",
       "      <th>Pedro</th>\n",
       "      <td>9.0</td>\n",
       "      <td>6.00</td>\n",
       "      <td>4.00</td>\n",
       "      <td>9.8</td>\n",
       "    </tr>\n",
       "    <tr>\n",
       "      <th>Horácio</th>\n",
       "      <td>9.3</td>\n",
       "      <td>6.00</td>\n",
       "      <td>7.00</td>\n",
       "      <td>7.0</td>\n",
       "    </tr>\n",
       "    <tr>\n",
       "      <th>Leandro</th>\n",
       "      <td>9.0</td>\n",
       "      <td>6.50</td>\n",
       "      <td>3.00</td>\n",
       "      <td>9.0</td>\n",
       "    </tr>\n",
       "    <tr>\n",
       "      <th>Estela</th>\n",
       "      <td>8.9</td>\n",
       "      <td>4.99</td>\n",
       "      <td>2.00</td>\n",
       "      <td>8.0</td>\n",
       "    </tr>\n",
       "  </tbody>\n",
       "</table>\n",
       "<p>100 rows × 4 columns</p>\n",
       "</div>"
      ],
      "text/plain": [
       "             notas_financas  notas_custos  notas_marketing  notas_atuarias\n",
       "estudante                                                                 \n",
       "Gabriela                5.8          4.00             1.00             6.0\n",
       "Luiz Felipe             3.1          3.00            10.00             2.0\n",
       "Patrícia                3.1          4.00             4.00             4.0\n",
       "Gustavo                10.0          8.00             8.00             8.0\n",
       "Letícia                 3.4          2.00             3.20             3.2\n",
       "...                     ...           ...              ...             ...\n",
       "Sheila                  7.7          4.33             5.16             5.1\n",
       "Pedro                   9.0          6.00             4.00             9.8\n",
       "Horácio                 9.3          6.00             7.00             7.0\n",
       "Leandro                 9.0          6.50             3.00             9.0\n",
       "Estela                  8.9          4.99             2.00             8.0\n",
       "\n",
       "[100 rows x 4 columns]"
      ]
     },
     "execution_count": 10,
     "metadata": {},
     "output_type": "execute_result"
    }
   ],
   "source": [
    "df_notas_fatorial=df_notas_fatorial.iloc[:,1:]\n",
    "df_notas_fatorial"
   ]
  },
  {
   "cell_type": "code",
   "execution_count": 11,
   "metadata": {},
   "outputs": [
    {
     "data": {
      "image/png": "[encoded data removed]",
      "text/plain": [
       "<Figure size 1152x432 with 2 Axes>"
      ]
     },
     "metadata": {},
     "output_type": "display_data"
    }
   ],
   "source": [
    "#hetamap de correlação\n",
    "plt.figure(figsize=(16, 6))\n",
    "heatmap = sns.heatmap(df_notas_fatorial.corr(), vmin=-1, vmax=1, annot=True,cmap='RdBu_r')\n",
    "heatmap.set_title('Correlation Heatmap', fontdict={'fontsize':12}, pad=12);"
   ]
  },
  {
   "cell_type": "code",
   "execution_count": 12,
   "metadata": {},
   "outputs": [
    {
     "data": {
      "text/plain": [
       "array([ 1.        , -4.        ,  4.26574727, -1.40255339,  0.13716186])"
      ]
     },
     "execution_count": 12,
     "metadata": {},
     "output_type": "execute_result"
    }
   ],
   "source": [
    "np.poly(df_notas_fatorial.corr().values) #Polinômio Característico"
   ]
  },
  {
   "cell_type": "code",
   "execution_count": 19,
   "metadata": {},
   "outputs": [],
   "source": [
    "X=df_notas_fatorial.values\n",
    "X_std=StandardScaler().fit_transform(X)"
   ]
  },
  {
   "cell_type": "code",
   "execution_count": 20,
   "metadata": {},
   "outputs": [
    {
     "ename": "NameError",
     "evalue": "name 'decomposition' is not defined",
     "output_type": "error",
     "traceback": [
      "\u001b[1;31m---------------------------------------------------------------------------\u001b[0m",
      "\u001b[1;31mNameError\u001b[0m                                 Traceback (most recent call last)",
      "\u001b[1;32m<ipython-input-20-68377bd8e4a9>\u001b[0m in \u001b[0;36m<module>\u001b[1;34m\u001b[0m\n\u001b[1;32m----> 1\u001b[1;33m \u001b[0mpca\u001b[0m\u001b[1;33m=\u001b[0m\u001b[0mdecomposition\u001b[0m\u001b[1;33m.\u001b[0m\u001b[0mPCA\u001b[0m\u001b[1;33m(\u001b[0m\u001b[1;33m)\u001b[0m\u001b[1;33m\u001b[0m\u001b[1;33m\u001b[0m\u001b[0m\n\u001b[0m\u001b[0;32m      2\u001b[0m \u001b[0mX\u001b[0m\u001b[1;33m=\u001b[0m\u001b[0mdf_notas_fatorial\u001b[0m\u001b[1;33m.\u001b[0m\u001b[0mvalues\u001b[0m\u001b[1;33m\u001b[0m\u001b[1;33m\u001b[0m\u001b[0m\n\u001b[0;32m      3\u001b[0m \u001b[0mnotas_pca\u001b[0m\u001b[1;33m=\u001b[0m\u001b[0mpca\u001b[0m\u001b[1;33m.\u001b[0m\u001b[0mfit_transform\u001b[0m\u001b[1;33m(\u001b[0m\u001b[0mX_std\u001b[0m\u001b[1;33m)\u001b[0m\u001b[1;33m\u001b[0m\u001b[1;33m\u001b[0m\u001b[0m\n",
      "\u001b[1;31mNameError\u001b[0m: name 'decomposition' is not defined"
     ]
    }
   ],
   "source": [
    "pca=decomposition.PCA()\n",
    "X=df_notas_fatorial.values\n",
    "notas_pca=pca.fit_transform(X_std)"
   ]
  },
  {
   "cell_type": "code",
   "execution_count": 14,
   "metadata": {},
   "outputs": [
    {
     "ename": "NameError",
     "evalue": "name 'pca' is not defined",
     "output_type": "error",
     "traceback": [
      "\u001b[1;31m---------------------------------------------------------------------------\u001b[0m",
      "\u001b[1;31mNameError\u001b[0m                                 Traceback (most recent call last)",
      "\u001b[1;32m<ipython-input-14-62c33566c1b5>\u001b[0m in \u001b[0;36m<module>\u001b[1;34m\u001b[0m\n\u001b[1;32m----> 1\u001b[1;33m \u001b[0mpca\u001b[0m\u001b[1;33m.\u001b[0m\u001b[0mexplained_variance_\u001b[0m \u001b[1;31m#eigenvalues\u001b[0m\u001b[1;33m\u001b[0m\u001b[1;33m\u001b[0m\u001b[0m\n\u001b[0m",
      "\u001b[1;31mNameError\u001b[0m: name 'pca' is not defined"
     ]
    }
   ],
   "source": [
    "pca.explained_variance_ #eigenvalues"
   ]
  },
  {
   "cell_type": "code",
   "execution_count": 1695,
   "metadata": {},
   "outputs": [
    {
     "data": {
      "text/plain": [
       "4.0"
      ]
     },
     "execution_count": 1695,
     "metadata": {},
     "output_type": "execute_result"
    }
   ],
   "source": [
    "round(sum(pca.explained_variance_),1)#Soma dos eigenValues = n de variáveis"
   ]
  },
  {
   "cell_type": "code",
   "execution_count": 1696,
   "metadata": {},
   "outputs": [
    {
     "data": {
      "text/plain": [
       "array([0.62976316, 0.25010202, 0.07443301, 0.0457018 ])"
      ]
     },
     "execution_count": 1696,
     "metadata": {},
     "output_type": "execute_result"
    }
   ],
   "source": [
    "pca.explained_variance_ratio_#variância compartilhada - % de variância compartilhada das variáveis com os fatores"
   ]
  },
  {
   "cell_type": "code",
   "execution_count": 1697,
   "metadata": {},
   "outputs": [
    {
     "data": {
      "text/plain": [
       "1.0"
      ]
     },
     "execution_count": 1697,
     "metadata": {},
     "output_type": "execute_result"
    }
   ],
   "source": [
    "round(pca.explained_variance_ratio_.sum(),1) #Soma da varância compartilhada = 100%"
   ]
  },
  {
   "cell_type": "code",
   "execution_count": 1698,
   "metadata": {},
   "outputs": [
    {
     "data": {
      "text/html": [
       "<div>\n",
       "<style scoped>\n",
       "    .dataframe tbody tr th:only-of-type {\n",
       "        vertical-align: middle;\n",
       "    }\n",
       "\n",
       "    .dataframe tbody tr th {\n",
       "        vertical-align: top;\n",
       "    }\n",
       "\n",
       "    .dataframe thead th {\n",
       "        text-align: right;\n",
       "    }\n",
       "</style>\n",
       "<table border=\"1\" class=\"dataframe\">\n",
       "  <thead>\n",
       "    <tr style=\"text-align: right;\">\n",
       "      <th></th>\n",
       "      <th>0</th>\n",
       "      <th>1</th>\n",
       "      <th>2</th>\n",
       "      <th>3</th>\n",
       "    </tr>\n",
       "  </thead>\n",
       "  <tbody>\n",
       "    <tr>\n",
       "      <th>notas_financas</th>\n",
       "      <td>-0.564124</td>\n",
       "      <td>0.006728</td>\n",
       "      <td>0.800695</td>\n",
       "      <td>0.201511</td>\n",
       "    </tr>\n",
       "    <tr>\n",
       "      <th>notas_custos</th>\n",
       "      <td>-0.588711</td>\n",
       "      <td>0.048746</td>\n",
       "      <td>-0.219796</td>\n",
       "      <td>-0.776359</td>\n",
       "    </tr>\n",
       "    <tr>\n",
       "      <th>notas_marketing</th>\n",
       "      <td>0.026629</td>\n",
       "      <td>0.998737</td>\n",
       "      <td>-0.000356</td>\n",
       "      <td>0.042616</td>\n",
       "    </tr>\n",
       "    <tr>\n",
       "      <th>notas_atuarias</th>\n",
       "      <td>-0.578338</td>\n",
       "      <td>-0.010196</td>\n",
       "      <td>-0.557294</td>\n",
       "      <td>0.595688</td>\n",
       "    </tr>\n",
       "  </tbody>\n",
       "</table>\n",
       "</div>"
      ],
      "text/plain": [
       "                        0         1         2         3\n",
       "notas_financas  -0.564124  0.006728  0.800695  0.201511\n",
       "notas_custos    -0.588711  0.048746 -0.219796 -0.776359\n",
       "notas_marketing  0.026629  0.998737 -0.000356  0.042616\n",
       "notas_atuarias  -0.578338 -0.010196 -0.557294  0.595688"
      ]
     },
     "execution_count": 1698,
     "metadata": {},
     "output_type": "execute_result"
    }
   ],
   "source": [
    "pd.DataFrame(pca.components_*-1,columns=df_notas_fatorial.columns).T #EigenVectors - Veio com sinal invertido"
   ]
  },
  {
   "cell_type": "code",
   "execution_count": 1699,
   "metadata": {},
   "outputs": [],
   "source": [
    "eigen_vectors=pd.DataFrame(pca.components_*-1,columns=df_notas_fatorial.columns).T"
   ]
  },
  {
   "cell_type": "code",
   "execution_count": 1700,
   "metadata": {},
   "outputs": [],
   "source": [
    "eigen_vectors.iloc[:,0]=eigen_vectors.iloc[:,0]*-1 #Inverter o sinal da primeira coluna"
   ]
  },
  {
   "cell_type": "code",
   "execution_count": 1701,
   "metadata": {},
   "outputs": [
    {
     "data": {
      "text/html": [
       "<div>\n",
       "<style scoped>\n",
       "    .dataframe tbody tr th:only-of-type {\n",
       "        vertical-align: middle;\n",
       "    }\n",
       "\n",
       "    .dataframe tbody tr th {\n",
       "        vertical-align: top;\n",
       "    }\n",
       "\n",
       "    .dataframe thead th {\n",
       "        text-align: right;\n",
       "    }\n",
       "</style>\n",
       "<table border=\"1\" class=\"dataframe\">\n",
       "  <thead>\n",
       "    <tr style=\"text-align: right;\">\n",
       "      <th></th>\n",
       "      <th>0</th>\n",
       "      <th>1</th>\n",
       "      <th>2</th>\n",
       "      <th>3</th>\n",
       "    </tr>\n",
       "  </thead>\n",
       "  <tbody>\n",
       "    <tr>\n",
       "      <th>notas_financas</th>\n",
       "      <td>0.564124</td>\n",
       "      <td>0.006728</td>\n",
       "      <td>0.800695</td>\n",
       "      <td>0.201511</td>\n",
       "    </tr>\n",
       "    <tr>\n",
       "      <th>notas_custos</th>\n",
       "      <td>0.588711</td>\n",
       "      <td>0.048746</td>\n",
       "      <td>-0.219796</td>\n",
       "      <td>-0.776359</td>\n",
       "    </tr>\n",
       "    <tr>\n",
       "      <th>notas_marketing</th>\n",
       "      <td>-0.026629</td>\n",
       "      <td>0.998737</td>\n",
       "      <td>-0.000356</td>\n",
       "      <td>0.042616</td>\n",
       "    </tr>\n",
       "    <tr>\n",
       "      <th>notas_atuarias</th>\n",
       "      <td>0.578338</td>\n",
       "      <td>-0.010196</td>\n",
       "      <td>-0.557294</td>\n",
       "      <td>0.595688</td>\n",
       "    </tr>\n",
       "  </tbody>\n",
       "</table>\n",
       "</div>"
      ],
      "text/plain": [
       "                        0         1         2         3\n",
       "notas_financas   0.564124  0.006728  0.800695  0.201511\n",
       "notas_custos     0.588711  0.048746 -0.219796 -0.776359\n",
       "notas_marketing -0.026629  0.998737 -0.000356  0.042616\n",
       "notas_atuarias   0.578338 -0.010196 -0.557294  0.595688"
      ]
     },
     "execution_count": 1701,
     "metadata": {},
     "output_type": "execute_result"
    }
   ],
   "source": [
    "eigen_vectors"
   ]
  },
  {
   "cell_type": "code",
   "execution_count": 1702,
   "metadata": {},
   "outputs": [],
   "source": [
    "eigen_values=pca.explained_variance_ "
   ]
  },
  {
   "cell_type": "code",
   "execution_count": 1703,
   "metadata": {},
   "outputs": [
    {
     "data": {
      "text/plain": [
       "array([[ 1.01010101,  0.76355898, -0.02993391,  0.71805171],\n",
       "       [ 0.76355898,  1.01010101,  0.00322029,  0.81727431],\n",
       "       [-0.02993391,  0.00322029,  1.01010101, -0.0447303 ],\n",
       "       [ 0.71805171,  0.81727431, -0.0447303 ,  1.01010101]])"
      ]
     },
     "execution_count": 1703,
     "metadata": {},
     "output_type": "execute_result"
    }
   ],
   "source": [
    "pca.get_covariance() #matriz de correlações com n-1 observações"
   ]
  },
  {
   "cell_type": "code",
   "execution_count": 1704,
   "metadata": {},
   "outputs": [
    {
     "data": {
      "text/html": [
       "<div>\n",
       "<style scoped>\n",
       "    .dataframe tbody tr th:only-of-type {\n",
       "        vertical-align: middle;\n",
       "    }\n",
       "\n",
       "    .dataframe tbody tr th {\n",
       "        vertical-align: top;\n",
       "    }\n",
       "\n",
       "    .dataframe thead th {\n",
       "        text-align: right;\n",
       "    }\n",
       "</style>\n",
       "<table border=\"1\" class=\"dataframe\">\n",
       "  <thead>\n",
       "    <tr style=\"text-align: right;\">\n",
       "      <th></th>\n",
       "      <th>notas_financas</th>\n",
       "      <th>notas_custos</th>\n",
       "      <th>notas_marketing</th>\n",
       "      <th>notas_atuarias</th>\n",
       "    </tr>\n",
       "  </thead>\n",
       "  <tbody>\n",
       "    <tr>\n",
       "      <th>0</th>\n",
       "      <td>0.353650</td>\n",
       "      <td>0.369064</td>\n",
       "      <td>-0.016694</td>\n",
       "      <td>0.362561</td>\n",
       "    </tr>\n",
       "    <tr>\n",
       "      <th>1</th>\n",
       "      <td>0.006693</td>\n",
       "      <td>0.048492</td>\n",
       "      <td>0.993528</td>\n",
       "      <td>-0.010143</td>\n",
       "    </tr>\n",
       "    <tr>\n",
       "      <th>2</th>\n",
       "      <td>1.460064</td>\n",
       "      <td>-0.400796</td>\n",
       "      <td>-0.000648</td>\n",
       "      <td>-1.016224</td>\n",
       "    </tr>\n",
       "    <tr>\n",
       "      <th>3</th>\n",
       "      <td>0.468942</td>\n",
       "      <td>-1.806689</td>\n",
       "      <td>0.099173</td>\n",
       "      <td>1.386245</td>\n",
       "    </tr>\n",
       "  </tbody>\n",
       "</table>\n",
       "</div>"
      ],
      "text/plain": [
       "   notas_financas  notas_custos  notas_marketing  notas_atuarias\n",
       "0        0.353650      0.369064        -0.016694        0.362561\n",
       "1        0.006693      0.048492         0.993528       -0.010143\n",
       "2        1.460064     -0.400796        -0.000648       -1.016224\n",
       "3        0.468942     -1.806689         0.099173        1.386245"
      ]
     },
     "execution_count": 1704,
     "metadata": {},
     "output_type": "execute_result"
    }
   ],
   "source": [
    "#Calculando os Scores Fatoriais\n",
    "scores_fatoriais=np.divide(eigen_vectors,np.sqrt(eigen_values)).T #Scores Fatoriais\n",
    "scores_fatoriais"
   ]
  },
  {
   "cell_type": "code",
   "execution_count": 1705,
   "metadata": {},
   "outputs": [],
   "source": [
    "#Criar função para criação dos fatores principais"
   ]
  },
  {
   "cell_type": "code",
   "execution_count": 1706,
   "metadata": {},
   "outputs": [],
   "source": [
    "def fatores_principais(df_std,df_scores,i):    \n",
    "    fatores=[]\n",
    "    array=[]\n",
    "    bu=[]\n",
    "    for n in range(len(df_std)):\n",
    "            for m in range(len(df_scores)):\n",
    "                fatores.append(sum(np.array(df_std.iloc[n,:])*np.array(df_scores.iloc[m,:])))   \n",
    "            array.append([df_std.index[n]])\n",
    "            bu.append(fatores)\n",
    "            fatores=[]\n",
    "    x=pd.DataFrame(array)\n",
    "    y=pd.DataFrame(bu)\n",
    "    lista_nomes=[]\n",
    "    for nomes in range(i):\n",
    "        lista_nomes.append(f'Fator {nomes+1}')\n",
    "    saida=x.merge(y,left_on=x.index,right_on=y.index).iloc[:,2:].set_index(df_std.index)\n",
    "    saida=saida.iloc[:,:i]\n",
    "    saida.columns=lista_nomes\n",
    "    return(saida)"
   ]
  },
  {
   "cell_type": "code",
   "execution_count": 1707,
   "metadata": {},
   "outputs": [
    {
     "data": {
      "text/html": [
       "<div>\n",
       "<style scoped>\n",
       "    .dataframe tbody tr th:only-of-type {\n",
       "        vertical-align: middle;\n",
       "    }\n",
       "\n",
       "    .dataframe tbody tr th {\n",
       "        vertical-align: top;\n",
       "    }\n",
       "\n",
       "    .dataframe thead th {\n",
       "        text-align: right;\n",
       "    }\n",
       "</style>\n",
       "<table border=\"1\" class=\"dataframe\">\n",
       "  <thead>\n",
       "    <tr style=\"text-align: right;\">\n",
       "      <th></th>\n",
       "      <th>Fator 1</th>\n",
       "      <th>Fator 2</th>\n",
       "      <th>Fator 3</th>\n",
       "      <th>Fator 4</th>\n",
       "    </tr>\n",
       "    <tr>\n",
       "      <th>estudante</th>\n",
       "      <th></th>\n",
       "      <th></th>\n",
       "      <th></th>\n",
       "      <th></th>\n",
       "    </tr>\n",
       "  </thead>\n",
       "  <tbody>\n",
       "    <tr>\n",
       "      <th>Gabriela</th>\n",
       "      <td>0.015479</td>\n",
       "      <td>-1.664694</td>\n",
       "      <td>-0.176628</td>\n",
       "      <td>0.738445</td>\n",
       "    </tr>\n",
       "    <tr>\n",
       "      <th>Luiz Felipe</th>\n",
       "      <td>-1.076105</td>\n",
       "      <td>1.503046</td>\n",
       "      <td>0.342055</td>\n",
       "      <td>-0.830770</td>\n",
       "    </tr>\n",
       "    <tr>\n",
       "      <th>Patrícia</th>\n",
       "      <td>-0.599622</td>\n",
       "      <td>-0.603344</td>\n",
       "      <td>-0.633261</td>\n",
       "      <td>-0.672124</td>\n",
       "    </tr>\n",
       "    <tr>\n",
       "      <th>Gustavo</th>\n",
       "      <td>1.345598</td>\n",
       "      <td>0.886670</td>\n",
       "      <td>0.327070</td>\n",
       "      <td>-0.227053</td>\n",
       "    </tr>\n",
       "    <tr>\n",
       "      <th>Letícia</th>\n",
       "      <td>-0.978529</td>\n",
       "      <td>-0.921521</td>\n",
       "      <td>0.160777</td>\n",
       "      <td>0.378868</td>\n",
       "    </tr>\n",
       "    <tr>\n",
       "      <th>...</th>\n",
       "      <td>...</td>\n",
       "      <td>...</td>\n",
       "      <td>...</td>\n",
       "      <td>...</td>\n",
       "    </tr>\n",
       "    <tr>\n",
       "      <th>Sheila</th>\n",
       "      <td>0.126362</td>\n",
       "      <td>-0.181855</td>\n",
       "      <td>1.026940</td>\n",
       "      <td>0.429068</td>\n",
       "    </tr>\n",
       "    <tr>\n",
       "      <th>Pedro</th>\n",
       "      <td>1.214696</td>\n",
       "      <td>-0.574509</td>\n",
       "      <td>-0.545711</td>\n",
       "      <td>1.956391</td>\n",
       "    </tr>\n",
       "    <tr>\n",
       "      <th>Horácio</th>\n",
       "      <td>0.825057</td>\n",
       "      <td>0.496547</td>\n",
       "      <td>0.732523</td>\n",
       "      <td>0.555087</td>\n",
       "    </tr>\n",
       "    <tr>\n",
       "      <th>Leandro</th>\n",
       "      <td>1.180081</td>\n",
       "      <td>-0.914368</td>\n",
       "      <td>-0.302290</td>\n",
       "      <td>1.108286</td>\n",
       "    </tr>\n",
       "    <tr>\n",
       "      <th>Estela</th>\n",
       "      <td>0.801774</td>\n",
       "      <td>-1.293483</td>\n",
       "      <td>0.304813</td>\n",
       "      <td>1.619014</td>\n",
       "    </tr>\n",
       "  </tbody>\n",
       "</table>\n",
       "<p>100 rows × 4 columns</p>\n",
       "</div>"
      ],
      "text/plain": [
       "              Fator 1   Fator 2   Fator 3   Fator 4\n",
       "estudante                                          \n",
       "Gabriela     0.015479 -1.664694 -0.176628  0.738445\n",
       "Luiz Felipe -1.076105  1.503046  0.342055 -0.830770\n",
       "Patrícia    -0.599622 -0.603344 -0.633261 -0.672124\n",
       "Gustavo      1.345598  0.886670  0.327070 -0.227053\n",
       "Letícia     -0.978529 -0.921521  0.160777  0.378868\n",
       "...               ...       ...       ...       ...\n",
       "Sheila       0.126362 -0.181855  1.026940  0.429068\n",
       "Pedro        1.214696 -0.574509 -0.545711  1.956391\n",
       "Horácio      0.825057  0.496547  0.732523  0.555087\n",
       "Leandro      1.180081 -0.914368 -0.302290  1.108286\n",
       "Estela       0.801774 -1.293483  0.304813  1.619014\n",
       "\n",
       "[100 rows x 4 columns]"
      ]
     },
     "execution_count": 1707,
     "metadata": {},
     "output_type": "execute_result"
    }
   ],
   "source": [
    "df_fatores=fatores_principais(df_notas_std,scores_fatoriais,4)\n",
    "df_fatores"
   ]
  },
  {
   "cell_type": "code",
   "execution_count": 1708,
   "metadata": {},
   "outputs": [
    {
     "data": {
      "text/html": [
       "<div>\n",
       "<style scoped>\n",
       "    .dataframe tbody tr th:only-of-type {\n",
       "        vertical-align: middle;\n",
       "    }\n",
       "\n",
       "    .dataframe tbody tr th {\n",
       "        vertical-align: top;\n",
       "    }\n",
       "\n",
       "    .dataframe thead th {\n",
       "        text-align: right;\n",
       "    }\n",
       "</style>\n",
       "<table border=\"1\" class=\"dataframe\">\n",
       "  <thead>\n",
       "    <tr style=\"text-align: right;\">\n",
       "      <th></th>\n",
       "      <th>notas_financas</th>\n",
       "      <th>notas_custos</th>\n",
       "      <th>notas_marketing</th>\n",
       "      <th>notas_atuarias</th>\n",
       "      <th>Fator 1</th>\n",
       "      <th>Fator 2</th>\n",
       "      <th>Fator 3</th>\n",
       "      <th>Fator 4</th>\n",
       "    </tr>\n",
       "    <tr>\n",
       "      <th>estudante</th>\n",
       "      <th></th>\n",
       "      <th></th>\n",
       "      <th></th>\n",
       "      <th></th>\n",
       "      <th></th>\n",
       "      <th></th>\n",
       "      <th></th>\n",
       "      <th></th>\n",
       "    </tr>\n",
       "  </thead>\n",
       "  <tbody>\n",
       "    <tr>\n",
       "      <th>Gabriela</th>\n",
       "      <td>5.8</td>\n",
       "      <td>4.00</td>\n",
       "      <td>1.00</td>\n",
       "      <td>6.0</td>\n",
       "      <td>0.015479</td>\n",
       "      <td>-1.664694</td>\n",
       "      <td>-0.176628</td>\n",
       "      <td>0.738445</td>\n",
       "    </tr>\n",
       "    <tr>\n",
       "      <th>Luiz Felipe</th>\n",
       "      <td>3.1</td>\n",
       "      <td>3.00</td>\n",
       "      <td>10.00</td>\n",
       "      <td>2.0</td>\n",
       "      <td>-1.076105</td>\n",
       "      <td>1.503046</td>\n",
       "      <td>0.342055</td>\n",
       "      <td>-0.830770</td>\n",
       "    </tr>\n",
       "    <tr>\n",
       "      <th>Patrícia</th>\n",
       "      <td>3.1</td>\n",
       "      <td>4.00</td>\n",
       "      <td>4.00</td>\n",
       "      <td>4.0</td>\n",
       "      <td>-0.599622</td>\n",
       "      <td>-0.603344</td>\n",
       "      <td>-0.633261</td>\n",
       "      <td>-0.672124</td>\n",
       "    </tr>\n",
       "    <tr>\n",
       "      <th>Gustavo</th>\n",
       "      <td>10.0</td>\n",
       "      <td>8.00</td>\n",
       "      <td>8.00</td>\n",
       "      <td>8.0</td>\n",
       "      <td>1.345598</td>\n",
       "      <td>0.886670</td>\n",
       "      <td>0.327070</td>\n",
       "      <td>-0.227053</td>\n",
       "    </tr>\n",
       "    <tr>\n",
       "      <th>Letícia</th>\n",
       "      <td>3.4</td>\n",
       "      <td>2.00</td>\n",
       "      <td>3.20</td>\n",
       "      <td>3.2</td>\n",
       "      <td>-0.978529</td>\n",
       "      <td>-0.921521</td>\n",
       "      <td>0.160777</td>\n",
       "      <td>0.378868</td>\n",
       "    </tr>\n",
       "    <tr>\n",
       "      <th>...</th>\n",
       "      <td>...</td>\n",
       "      <td>...</td>\n",
       "      <td>...</td>\n",
       "      <td>...</td>\n",
       "      <td>...</td>\n",
       "      <td>...</td>\n",
       "      <td>...</td>\n",
       "      <td>...</td>\n",
       "    </tr>\n",
       "    <tr>\n",
       "      <th>Sheila</th>\n",
       "      <td>7.7</td>\n",
       "      <td>4.33</td>\n",
       "      <td>5.16</td>\n",
       "      <td>5.1</td>\n",
       "      <td>0.126362</td>\n",
       "      <td>-0.181855</td>\n",
       "      <td>1.026940</td>\n",
       "      <td>0.429068</td>\n",
       "    </tr>\n",
       "    <tr>\n",
       "      <th>Pedro</th>\n",
       "      <td>9.0</td>\n",
       "      <td>6.00</td>\n",
       "      <td>4.00</td>\n",
       "      <td>9.8</td>\n",
       "      <td>1.214696</td>\n",
       "      <td>-0.574509</td>\n",
       "      <td>-0.545711</td>\n",
       "      <td>1.956391</td>\n",
       "    </tr>\n",
       "    <tr>\n",
       "      <th>Horácio</th>\n",
       "      <td>9.3</td>\n",
       "      <td>6.00</td>\n",
       "      <td>7.00</td>\n",
       "      <td>7.0</td>\n",
       "      <td>0.825057</td>\n",
       "      <td>0.496547</td>\n",
       "      <td>0.732523</td>\n",
       "      <td>0.555087</td>\n",
       "    </tr>\n",
       "    <tr>\n",
       "      <th>Leandro</th>\n",
       "      <td>9.0</td>\n",
       "      <td>6.50</td>\n",
       "      <td>3.00</td>\n",
       "      <td>9.0</td>\n",
       "      <td>1.180081</td>\n",
       "      <td>-0.914368</td>\n",
       "      <td>-0.302290</td>\n",
       "      <td>1.108286</td>\n",
       "    </tr>\n",
       "    <tr>\n",
       "      <th>Estela</th>\n",
       "      <td>8.9</td>\n",
       "      <td>4.99</td>\n",
       "      <td>2.00</td>\n",
       "      <td>8.0</td>\n",
       "      <td>0.801774</td>\n",
       "      <td>-1.293483</td>\n",
       "      <td>0.304813</td>\n",
       "      <td>1.619014</td>\n",
       "    </tr>\n",
       "  </tbody>\n",
       "</table>\n",
       "<p>100 rows × 8 columns</p>\n",
       "</div>"
      ],
      "text/plain": [
       "             notas_financas  notas_custos  notas_marketing  notas_atuarias  \\\n",
       "estudante                                                                    \n",
       "Gabriela                5.8          4.00             1.00             6.0   \n",
       "Luiz Felipe             3.1          3.00            10.00             2.0   \n",
       "Patrícia                3.1          4.00             4.00             4.0   \n",
       "Gustavo                10.0          8.00             8.00             8.0   \n",
       "Letícia                 3.4          2.00             3.20             3.2   \n",
       "...                     ...           ...              ...             ...   \n",
       "Sheila                  7.7          4.33             5.16             5.1   \n",
       "Pedro                   9.0          6.00             4.00             9.8   \n",
       "Horácio                 9.3          6.00             7.00             7.0   \n",
       "Leandro                 9.0          6.50             3.00             9.0   \n",
       "Estela                  8.9          4.99             2.00             8.0   \n",
       "\n",
       "              Fator 1   Fator 2   Fator 3   Fator 4  \n",
       "estudante                                            \n",
       "Gabriela     0.015479 -1.664694 -0.176628  0.738445  \n",
       "Luiz Felipe -1.076105  1.503046  0.342055 -0.830770  \n",
       "Patrícia    -0.599622 -0.603344 -0.633261 -0.672124  \n",
       "Gustavo      1.345598  0.886670  0.327070 -0.227053  \n",
       "Letícia     -0.978529 -0.921521  0.160777  0.378868  \n",
       "...               ...       ...       ...       ...  \n",
       "Sheila       0.126362 -0.181855  1.026940  0.429068  \n",
       "Pedro        1.214696 -0.574509 -0.545711  1.956391  \n",
       "Horácio      0.825057  0.496547  0.732523  0.555087  \n",
       "Leandro      1.180081 -0.914368 -0.302290  1.108286  \n",
       "Estela       0.801774 -1.293483  0.304813  1.619014  \n",
       "\n",
       "[100 rows x 8 columns]"
      ]
     },
     "execution_count": 1708,
     "metadata": {},
     "output_type": "execute_result"
    }
   ],
   "source": [
    "df_notas_fatorial_final=df_notas_fatorial.join(df_fatores)\n",
    "df_notas_fatorial_final"
   ]
  },
  {
   "cell_type": "code",
   "execution_count": 1709,
   "metadata": {},
   "outputs": [
    {
     "data": {
      "text/html": [
       "<div>\n",
       "<style scoped>\n",
       "    .dataframe tbody tr th:only-of-type {\n",
       "        vertical-align: middle;\n",
       "    }\n",
       "\n",
       "    .dataframe tbody tr th {\n",
       "        vertical-align: top;\n",
       "    }\n",
       "\n",
       "    .dataframe thead th {\n",
       "        text-align: right;\n",
       "    }\n",
       "</style>\n",
       "<table border=\"1\" class=\"dataframe\">\n",
       "  <thead>\n",
       "    <tr style=\"text-align: right;\">\n",
       "      <th></th>\n",
       "      <th>notas_financas</th>\n",
       "      <th>notas_custos</th>\n",
       "      <th>notas_marketing</th>\n",
       "      <th>notas_atuarias</th>\n",
       "      <th>Fator 1</th>\n",
       "      <th>Fator 2</th>\n",
       "      <th>Fator 3</th>\n",
       "      <th>Fator 4</th>\n",
       "    </tr>\n",
       "  </thead>\n",
       "  <tbody>\n",
       "    <tr>\n",
       "      <th>notas_financas</th>\n",
       "      <td>1.000000</td>\n",
       "      <td>0.755923</td>\n",
       "      <td>-0.029635</td>\n",
       "      <td>0.710871</td>\n",
       "      <td>8.953501e-01</td>\n",
       "      <td>6.729105e-03</td>\n",
       "      <td>4.368980e-01</td>\n",
       "      <td>8.615779e-02</td>\n",
       "    </tr>\n",
       "    <tr>\n",
       "      <th>notas_custos</th>\n",
       "      <td>0.755923</td>\n",
       "      <td>1.000000</td>\n",
       "      <td>0.003188</td>\n",
       "      <td>0.809102</td>\n",
       "      <td>9.343744e-01</td>\n",
       "      <td>4.875578e-02</td>\n",
       "      <td>-1.199311e-01</td>\n",
       "      <td>-3.319396e-01</td>\n",
       "    </tr>\n",
       "    <tr>\n",
       "      <th>notas_marketing</th>\n",
       "      <td>-0.029635</td>\n",
       "      <td>0.003188</td>\n",
       "      <td>1.000000</td>\n",
       "      <td>-0.044283</td>\n",
       "      <td>-4.226467e-02</td>\n",
       "      <td>9.989403e-01</td>\n",
       "      <td>-1.939873e-04</td>\n",
       "      <td>1.822096e-02</td>\n",
       "    </tr>\n",
       "    <tr>\n",
       "      <th>notas_atuarias</th>\n",
       "      <td>0.710871</td>\n",
       "      <td>0.809102</td>\n",
       "      <td>-0.044283</td>\n",
       "      <td>1.000000</td>\n",
       "      <td>9.179102e-01</td>\n",
       "      <td>-1.019835e-02</td>\n",
       "      <td>-3.040867e-01</td>\n",
       "      <td>2.546922e-01</td>\n",
       "    </tr>\n",
       "    <tr>\n",
       "      <th>Fator 1</th>\n",
       "      <td>0.895350</td>\n",
       "      <td>0.934374</td>\n",
       "      <td>-0.042265</td>\n",
       "      <td>0.917910</td>\n",
       "      <td>1.000000e+00</td>\n",
       "      <td>1.300867e-16</td>\n",
       "      <td>-8.021081e-16</td>\n",
       "      <td>-4.261462e-17</td>\n",
       "    </tr>\n",
       "    <tr>\n",
       "      <th>Fator 2</th>\n",
       "      <td>0.006729</td>\n",
       "      <td>0.048756</td>\n",
       "      <td>0.998940</td>\n",
       "      <td>-0.010198</td>\n",
       "      <td>1.300867e-16</td>\n",
       "      <td>1.000000e+00</td>\n",
       "      <td>9.532218e-18</td>\n",
       "      <td>-5.158612e-16</td>\n",
       "    </tr>\n",
       "    <tr>\n",
       "      <th>Fator 3</th>\n",
       "      <td>0.436898</td>\n",
       "      <td>-0.119931</td>\n",
       "      <td>-0.000194</td>\n",
       "      <td>-0.304087</td>\n",
       "      <td>-8.021081e-16</td>\n",
       "      <td>9.532218e-18</td>\n",
       "      <td>1.000000e+00</td>\n",
       "      <td>-5.046468e-18</td>\n",
       "    </tr>\n",
       "    <tr>\n",
       "      <th>Fator 4</th>\n",
       "      <td>0.086158</td>\n",
       "      <td>-0.331940</td>\n",
       "      <td>0.018221</td>\n",
       "      <td>0.254692</td>\n",
       "      <td>-4.261462e-17</td>\n",
       "      <td>-5.158612e-16</td>\n",
       "      <td>-5.046468e-18</td>\n",
       "      <td>1.000000e+00</td>\n",
       "    </tr>\n",
       "  </tbody>\n",
       "</table>\n",
       "</div>"
      ],
      "text/plain": [
       "                 notas_financas  notas_custos  notas_marketing  \\\n",
       "notas_financas         1.000000      0.755923        -0.029635   \n",
       "notas_custos           0.755923      1.000000         0.003188   \n",
       "notas_marketing       -0.029635      0.003188         1.000000   \n",
       "notas_atuarias         0.710871      0.809102        -0.044283   \n",
       "Fator 1                0.895350      0.934374        -0.042265   \n",
       "Fator 2                0.006729      0.048756         0.998940   \n",
       "Fator 3                0.436898     -0.119931        -0.000194   \n",
       "Fator 4                0.086158     -0.331940         0.018221   \n",
       "\n",
       "                 notas_atuarias       Fator 1       Fator 2       Fator 3  \\\n",
       "notas_financas         0.710871  8.953501e-01  6.729105e-03  4.368980e-01   \n",
       "notas_custos           0.809102  9.343744e-01  4.875578e-02 -1.199311e-01   \n",
       "notas_marketing       -0.044283 -4.226467e-02  9.989403e-01 -1.939873e-04   \n",
       "notas_atuarias         1.000000  9.179102e-01 -1.019835e-02 -3.040867e-01   \n",
       "Fator 1                0.917910  1.000000e+00  1.300867e-16 -8.021081e-16   \n",
       "Fator 2               -0.010198  1.300867e-16  1.000000e+00  9.532218e-18   \n",
       "Fator 3               -0.304087 -8.021081e-16  9.532218e-18  1.000000e+00   \n",
       "Fator 4                0.254692 -4.261462e-17 -5.158612e-16 -5.046468e-18   \n",
       "\n",
       "                      Fator 4  \n",
       "notas_financas   8.615779e-02  \n",
       "notas_custos    -3.319396e-01  \n",
       "notas_marketing  1.822096e-02  \n",
       "notas_atuarias   2.546922e-01  \n",
       "Fator 1         -4.261462e-17  \n",
       "Fator 2         -5.158612e-16  \n",
       "Fator 3         -5.046468e-18  \n",
       "Fator 4          1.000000e+00  "
      ]
     },
     "execution_count": 1709,
     "metadata": {},
     "output_type": "execute_result"
    }
   ],
   "source": [
    "df_notas_fatorial_final.corr()"
   ]
  },
  {
   "cell_type": "code",
   "execution_count": 1710,
   "metadata": {},
   "outputs": [],
   "source": [
    "def correl_categorias_x_fatores(n_categorias,n_fatores):\n",
    "    return(pd.DataFrame(df_notas_fatorial_final.corr().iloc[n_categorias:,:n_fatores]))    "
   ]
  },
  {
   "cell_type": "code",
   "execution_count": 1711,
   "metadata": {},
   "outputs": [
    {
     "data": {
      "text/html": [
       "<div>\n",
       "<style scoped>\n",
       "    .dataframe tbody tr th:only-of-type {\n",
       "        vertical-align: middle;\n",
       "    }\n",
       "\n",
       "    .dataframe tbody tr th {\n",
       "        vertical-align: top;\n",
       "    }\n",
       "\n",
       "    .dataframe thead th {\n",
       "        text-align: right;\n",
       "    }\n",
       "</style>\n",
       "<table border=\"1\" class=\"dataframe\">\n",
       "  <thead>\n",
       "    <tr style=\"text-align: right;\">\n",
       "      <th></th>\n",
       "      <th>notas_financas</th>\n",
       "      <th>notas_custos</th>\n",
       "      <th>notas_marketing</th>\n",
       "      <th>notas_atuarias</th>\n",
       "    </tr>\n",
       "  </thead>\n",
       "  <tbody>\n",
       "    <tr>\n",
       "      <th>Fator 1</th>\n",
       "      <td>0.895350</td>\n",
       "      <td>0.934374</td>\n",
       "      <td>-0.042265</td>\n",
       "      <td>0.917910</td>\n",
       "    </tr>\n",
       "    <tr>\n",
       "      <th>Fator 2</th>\n",
       "      <td>0.006729</td>\n",
       "      <td>0.048756</td>\n",
       "      <td>0.998940</td>\n",
       "      <td>-0.010198</td>\n",
       "    </tr>\n",
       "    <tr>\n",
       "      <th>Fator 3</th>\n",
       "      <td>0.436898</td>\n",
       "      <td>-0.119931</td>\n",
       "      <td>-0.000194</td>\n",
       "      <td>-0.304087</td>\n",
       "    </tr>\n",
       "    <tr>\n",
       "      <th>Fator 4</th>\n",
       "      <td>0.086158</td>\n",
       "      <td>-0.331940</td>\n",
       "      <td>0.018221</td>\n",
       "      <td>0.254692</td>\n",
       "    </tr>\n",
       "  </tbody>\n",
       "</table>\n",
       "</div>"
      ],
      "text/plain": [
       "         notas_financas  notas_custos  notas_marketing  notas_atuarias\n",
       "Fator 1        0.895350      0.934374        -0.042265        0.917910\n",
       "Fator 2        0.006729      0.048756         0.998940       -0.010198\n",
       "Fator 3        0.436898     -0.119931        -0.000194       -0.304087\n",
       "Fator 4        0.086158     -0.331940         0.018221        0.254692"
      ]
     },
     "execution_count": 1711,
     "metadata": {},
     "output_type": "execute_result"
    }
   ],
   "source": [
    "df_corr_categ_x_fatores=correl_categorias_x_fatores(4,4)\n",
    "df_corr_categ_x_fatores"
   ]
  },
  {
   "cell_type": "code",
   "execution_count": 1712,
   "metadata": {},
   "outputs": [
    {
     "data": {
      "text/html": [
       "<div>\n",
       "<style scoped>\n",
       "    .dataframe tbody tr th:only-of-type {\n",
       "        vertical-align: middle;\n",
       "    }\n",
       "\n",
       "    .dataframe tbody tr th {\n",
       "        vertical-align: top;\n",
       "    }\n",
       "\n",
       "    .dataframe thead th {\n",
       "        text-align: right;\n",
       "    }\n",
       "</style>\n",
       "<table border=\"1\" class=\"dataframe\">\n",
       "  <thead>\n",
       "    <tr style=\"text-align: right;\">\n",
       "      <th></th>\n",
       "      <th>Fator 1</th>\n",
       "      <th>Fator 2</th>\n",
       "      <th>Fator 3</th>\n",
       "      <th>Fator 4</th>\n",
       "    </tr>\n",
       "  </thead>\n",
       "  <tbody>\n",
       "    <tr>\n",
       "      <th>notas_financas</th>\n",
       "      <td>0.895350</td>\n",
       "      <td>0.006729</td>\n",
       "      <td>0.436898</td>\n",
       "      <td>0.086158</td>\n",
       "    </tr>\n",
       "    <tr>\n",
       "      <th>notas_custos</th>\n",
       "      <td>0.934374</td>\n",
       "      <td>0.048756</td>\n",
       "      <td>-0.119931</td>\n",
       "      <td>-0.331940</td>\n",
       "    </tr>\n",
       "    <tr>\n",
       "      <th>notas_marketing</th>\n",
       "      <td>-0.042265</td>\n",
       "      <td>0.998940</td>\n",
       "      <td>-0.000194</td>\n",
       "      <td>0.018221</td>\n",
       "    </tr>\n",
       "    <tr>\n",
       "      <th>notas_atuarias</th>\n",
       "      <td>0.917910</td>\n",
       "      <td>-0.010198</td>\n",
       "      <td>-0.304087</td>\n",
       "      <td>0.254692</td>\n",
       "    </tr>\n",
       "  </tbody>\n",
       "</table>\n",
       "</div>"
      ],
      "text/plain": [
       "                  Fator 1   Fator 2   Fator 3   Fator 4\n",
       "notas_financas   0.895350  0.006729  0.436898  0.086158\n",
       "notas_custos     0.934374  0.048756 -0.119931 -0.331940\n",
       "notas_marketing -0.042265  0.998940 -0.000194  0.018221\n",
       "notas_atuarias   0.917910 -0.010198 -0.304087  0.254692"
      ]
     },
     "execution_count": 1712,
     "metadata": {},
     "output_type": "execute_result"
    }
   ],
   "source": [
    "df_corr_categ_x_fatores.T"
   ]
  },
  {
   "cell_type": "code",
   "execution_count": 1713,
   "metadata": {},
   "outputs": [
    {
     "data": {
      "image/png": "[encoded data removed]",
      "text/plain": [
       "<Figure size 1152x432 with 2 Axes>"
      ]
     },
     "metadata": {},
     "output_type": "display_data"
    }
   ],
   "source": [
    "#hetamap de correlação\n",
    "plt.figure(figsize=(16, 6))\n",
    "heatmap = sns.heatmap(correl_categorias_x_fatores(4,4).T, vmin=-1, vmax=1, annot=True,cmap='RdBu_r')\n",
    "heatmap.set_title('Correlation Heatmap', fontdict={'fontsize':12}, pad=12);"
   ]
  },
  {
   "cell_type": "code",
   "execution_count": 1714,
   "metadata": {},
   "outputs": [],
   "source": [
    "def comunalidades_fatores(n_fatores):\n",
    "    df_corr_categ_x_fatores_T=df_corr_categ_x_fatores.T\n",
    "    df_corr_categ_x_fatores_T=df_corr_categ_x_fatores_T**2\n",
    "    return(df_corr_categ_x_fatores_T.iloc[:,:n_fatores].sum(axis=1))\n",
    "    "
   ]
  },
  {
   "cell_type": "code",
   "execution_count": 1715,
   "metadata": {},
   "outputs": [
    {
     "data": {
      "text/plain": [
       "notas_financas     0.801697\n",
       "notas_custos       0.875433\n",
       "notas_marketing    0.999668\n",
       "notas_atuarias     0.842663\n",
       "dtype: float64"
      ]
     },
     "execution_count": 1715,
     "metadata": {},
     "output_type": "execute_result"
    }
   ],
   "source": [
    "comunalidades_fatores(2)"
   ]
  },
  {
   "cell_type": "code",
   "execution_count": 1716,
   "metadata": {},
   "outputs": [
    {
     "data": {
      "text/html": [
       "<div>\n",
       "<style scoped>\n",
       "    .dataframe tbody tr th:only-of-type {\n",
       "        vertical-align: middle;\n",
       "    }\n",
       "\n",
       "    .dataframe tbody tr th {\n",
       "        vertical-align: top;\n",
       "    }\n",
       "\n",
       "    .dataframe thead th {\n",
       "        text-align: right;\n",
       "    }\n",
       "</style>\n",
       "<table border=\"1\" class=\"dataframe\">\n",
       "  <thead>\n",
       "    <tr style=\"text-align: right;\">\n",
       "      <th></th>\n",
       "      <th>Fator 1</th>\n",
       "      <th>Fator 2</th>\n",
       "      <th>Fator 3</th>\n",
       "      <th>Fator 4</th>\n",
       "    </tr>\n",
       "  </thead>\n",
       "  <tbody>\n",
       "    <tr>\n",
       "      <th>notas_financas</th>\n",
       "      <td>0.801652</td>\n",
       "      <td>0.000045</td>\n",
       "      <td>1.908798e-01</td>\n",
       "      <td>0.007423</td>\n",
       "    </tr>\n",
       "    <tr>\n",
       "      <th>notas_custos</th>\n",
       "      <td>0.873055</td>\n",
       "      <td>0.002377</td>\n",
       "      <td>1.438347e-02</td>\n",
       "      <td>0.110184</td>\n",
       "    </tr>\n",
       "    <tr>\n",
       "      <th>notas_marketing</th>\n",
       "      <td>0.001786</td>\n",
       "      <td>0.997882</td>\n",
       "      <td>3.763106e-08</td>\n",
       "      <td>0.000332</td>\n",
       "    </tr>\n",
       "    <tr>\n",
       "      <th>notas_atuarias</th>\n",
       "      <td>0.842559</td>\n",
       "      <td>0.000104</td>\n",
       "      <td>9.246871e-02</td>\n",
       "      <td>0.064868</td>\n",
       "    </tr>\n",
       "  </tbody>\n",
       "</table>\n",
       "</div>"
      ],
      "text/plain": [
       "                  Fator 1   Fator 2       Fator 3   Fator 4\n",
       "notas_financas   0.801652  0.000045  1.908798e-01  0.007423\n",
       "notas_custos     0.873055  0.002377  1.438347e-02  0.110184\n",
       "notas_marketing  0.001786  0.997882  3.763106e-08  0.000332\n",
       "notas_atuarias   0.842559  0.000104  9.246871e-02  0.064868"
      ]
     },
     "execution_count": 1716,
     "metadata": {},
     "output_type": "execute_result"
    }
   ],
   "source": [
    "comunalidades=df_corr_categ_x_fatores.T**2\n",
    "comunalidades"
   ]
  },
  {
   "cell_type": "code",
   "execution_count": 1717,
   "metadata": {},
   "outputs": [
    {
     "data": {
      "image/png": "[encoded data removed]",
      "text/plain": [
       "<Figure size 720x432 with 1 Axes>"
      ]
     },
     "metadata": {},
     "output_type": "display_data"
    }
   ],
   "source": [
    "ax0 = comunalidades.plot(kind='scatter', \n",
    "                   x='Fator 1', \n",
    "                   y='Fator 2', \n",
    "                   figsize=(10, 6), \n",
    "                   color='darkblue',\n",
    "                   s=60\n",
    "                   )\n",
    "\n",
    "ax0.set_title('Comunalidades')\n",
    "ax0.set_xlabel('')\n",
    "ax0.set_ylabel('')\n",
    "\n",
    "\n",
    "ax0.axis(xmin=-1.1, xmax=1.1, ymin=-1.1, ymax=1.1)\n",
    "ax0.axhline(color='blue',alpha=0.5,linestyle='--')\n",
    "ax0.axvline(color='blue',alpha=0.5,linestyle='--')\n",
    "ax0.annotate('Fator 1', xy=(0.9,-0.2),color='darkblue')\n",
    "ax0.annotate('Fator 2', xy=(0.1,0.95),color='darkblue')\n",
    "\n",
    "def labels(m):\n",
    "    distancia_labels=0.1\n",
    "    for n in range(m):\n",
    "        ax0.annotate(comunalidades.index[n], xy=(comunalidades.iloc[n,0]-0.3,comunalidades.iloc[n,1]+distancia_labels))\n",
    "        distancia_labels=distancia_labels-0.2\n",
    "labels(len(comunalidades))\n",
    "plt.show()"
   ]
  },
  {
   "cell_type": "code",
   "execution_count": 1718,
   "metadata": {},
   "outputs": [],
   "source": [
    "def ranking_pca(fatores,variancia_compartilhada,n_fatores):\n",
    "    lista=[]\n",
    "    array=[]\n",
    "    for n in range(len(fatores)):#rodar observações e extrai delas seus fatores\n",
    "        for m in range(len(variancia_compartilhada[:n_fatores])):\n",
    "            lista.append(fatores.iloc[n,m]*variancia_compartilhada[m])\n",
    "        lista=sum(lista)\n",
    "        #lista.append(sum(lista)) #Caso queira Visualizar as colunas das operações\n",
    "        array.append(lista)\n",
    "        lista=[]\n",
    "    pontuacao=pd.DataFrame(np.array(array),index=fatores.index,columns=['Pontuação'])\n",
    "    notas=df_notas_fatorial_final.iloc[:,:-n_fatores]\n",
    "    final=notas.join(pontuacao)\n",
    "    return(final.sort_values('Pontuação',ascending=False))\n",
    "    #return(pontuacao)"
   ]
  },
  {
   "cell_type": "code",
   "execution_count": 1,
   "metadata": {},
   "outputs": [
    {
     "ename": "NameError",
     "evalue": "name 'ranking_pca' is not defined",
     "output_type": "error",
     "traceback": [
      "\u001b[1;31m---------------------------------------------------------------------------\u001b[0m",
      "\u001b[1;31mNameError\u001b[0m                                 Traceback (most recent call last)",
      "\u001b[1;32m<ipython-input-1-8266019cdf8e>\u001b[0m in \u001b[0;36m<module>\u001b[1;34m\u001b[0m\n\u001b[1;32m----> 1\u001b[1;33m \u001b[0mranking_pca\u001b[0m\u001b[1;33m(\u001b[0m\u001b[0mdf_fatores\u001b[0m\u001b[1;33m,\u001b[0m\u001b[0mvariancia_compart\u001b[0m\u001b[1;33m,\u001b[0m\u001b[1;36m2\u001b[0m\u001b[1;33m)\u001b[0m\u001b[1;33m.\u001b[0m\u001b[0mhead\u001b[0m\u001b[1;33m(\u001b[0m\u001b[1;36m10\u001b[0m\u001b[1;33m)\u001b[0m\u001b[1;33m\u001b[0m\u001b[1;33m\u001b[0m\u001b[0m\n\u001b[0m",
      "\u001b[1;31mNameError\u001b[0m: name 'ranking_pca' is not defined"
     ]
    }
   ],
   "source": [
    "ranking_pca(df_fatores,variancia_compart,2).head(10)"
   ]
  },
  {
   "cell_type": "code",
   "execution_count": 1727,
   "metadata": {},
   "outputs": [
    {
     "data": {
      "text/html": [
       "<div>\n",
       "<style scoped>\n",
       "    .dataframe tbody tr th:only-of-type {\n",
       "        vertical-align: middle;\n",
       "    }\n",
       "\n",
       "    .dataframe tbody tr th {\n",
       "        vertical-align: top;\n",
       "    }\n",
       "\n",
       "    .dataframe thead th {\n",
       "        text-align: right;\n",
       "    }\n",
       "</style>\n",
       "<table border=\"1\" class=\"dataframe\">\n",
       "  <thead>\n",
       "    <tr style=\"text-align: right;\">\n",
       "      <th></th>\n",
       "      <th>notas_financas</th>\n",
       "      <th>notas_custos</th>\n",
       "      <th>notas_marketing</th>\n",
       "      <th>notas_atuarias</th>\n",
       "      <th>Fator 1</th>\n",
       "      <th>Fator 2</th>\n",
       "      <th>Pontuação</th>\n",
       "    </tr>\n",
       "    <tr>\n",
       "      <th>estudante</th>\n",
       "      <th></th>\n",
       "      <th></th>\n",
       "      <th></th>\n",
       "      <th></th>\n",
       "      <th></th>\n",
       "      <th></th>\n",
       "      <th></th>\n",
       "    </tr>\n",
       "  </thead>\n",
       "  <tbody>\n",
       "    <tr>\n",
       "      <th>Angélica</th>\n",
       "      <td>3.5</td>\n",
       "      <td>3.62</td>\n",
       "      <td>2.40</td>\n",
       "      <td>2.4</td>\n",
       "      <td>-0.833940</td>\n",
       "      <td>-1.168355</td>\n",
       "      <td>-0.817393</td>\n",
       "    </tr>\n",
       "    <tr>\n",
       "      <th>Letícia</th>\n",
       "      <td>3.4</td>\n",
       "      <td>2.00</td>\n",
       "      <td>3.20</td>\n",
       "      <td>3.2</td>\n",
       "      <td>-0.978529</td>\n",
       "      <td>-0.921521</td>\n",
       "      <td>-0.846716</td>\n",
       "    </tr>\n",
       "    <tr>\n",
       "      <th>Paola</th>\n",
       "      <td>1.7</td>\n",
       "      <td>2.60</td>\n",
       "      <td>3.37</td>\n",
       "      <td>3.4</td>\n",
       "      <td>-1.053492</td>\n",
       "      <td>-0.854085</td>\n",
       "      <td>-0.877059</td>\n",
       "    </tr>\n",
       "    <tr>\n",
       "      <th>Sandra</th>\n",
       "      <td>2.4</td>\n",
       "      <td>2.97</td>\n",
       "      <td>2.30</td>\n",
       "      <td>2.3</td>\n",
       "      <td>-1.071134</td>\n",
       "      <td>-1.218508</td>\n",
       "      <td>-0.979312</td>\n",
       "    </tr>\n",
       "    <tr>\n",
       "      <th>Frederico</th>\n",
       "      <td>2.4</td>\n",
       "      <td>2.97</td>\n",
       "      <td>2.30</td>\n",
       "      <td>2.3</td>\n",
       "      <td>-1.071134</td>\n",
       "      <td>-1.218508</td>\n",
       "      <td>-0.979312</td>\n",
       "    </tr>\n",
       "    <tr>\n",
       "      <th>Ester</th>\n",
       "      <td>0.6</td>\n",
       "      <td>1.94</td>\n",
       "      <td>3.00</td>\n",
       "      <td>3.2</td>\n",
       "      <td>-1.305093</td>\n",
       "      <td>-0.999345</td>\n",
       "      <td>-1.071838</td>\n",
       "    </tr>\n",
       "    <tr>\n",
       "      <th>Carolina</th>\n",
       "      <td>3.1</td>\n",
       "      <td>2.00</td>\n",
       "      <td>2.00</td>\n",
       "      <td>2.0</td>\n",
       "      <td>-1.179553</td>\n",
       "      <td>-1.340920</td>\n",
       "      <td>-1.078206</td>\n",
       "    </tr>\n",
       "    <tr>\n",
       "      <th>Elaine</th>\n",
       "      <td>3.1</td>\n",
       "      <td>2.00</td>\n",
       "      <td>2.00</td>\n",
       "      <td>2.0</td>\n",
       "      <td>-1.179553</td>\n",
       "      <td>-1.340920</td>\n",
       "      <td>-1.078206</td>\n",
       "    </tr>\n",
       "    <tr>\n",
       "      <th>Viviane</th>\n",
       "      <td>0.7</td>\n",
       "      <td>1.87</td>\n",
       "      <td>2.80</td>\n",
       "      <td>2.8</td>\n",
       "      <td>-1.361086</td>\n",
       "      <td>-1.069499</td>\n",
       "      <td>-1.124646</td>\n",
       "    </tr>\n",
       "    <tr>\n",
       "      <th>Gilmar</th>\n",
       "      <td>1.1</td>\n",
       "      <td>1.85</td>\n",
       "      <td>1.70</td>\n",
       "      <td>1.7</td>\n",
       "      <td>-1.471547</td>\n",
       "      <td>-1.452891</td>\n",
       "      <td>-1.290097</td>\n",
       "    </tr>\n",
       "  </tbody>\n",
       "</table>\n",
       "</div>"
      ],
      "text/plain": [
       "           notas_financas  notas_custos  notas_marketing  notas_atuarias  \\\n",
       "estudante                                                                  \n",
       "Angélica              3.5          3.62             2.40             2.4   \n",
       "Letícia               3.4          2.00             3.20             3.2   \n",
       "Paola                 1.7          2.60             3.37             3.4   \n",
       "Sandra                2.4          2.97             2.30             2.3   \n",
       "Frederico             2.4          2.97             2.30             2.3   \n",
       "Ester                 0.6          1.94             3.00             3.2   \n",
       "Carolina              3.1          2.00             2.00             2.0   \n",
       "Elaine                3.1          2.00             2.00             2.0   \n",
       "Viviane               0.7          1.87             2.80             2.8   \n",
       "Gilmar                1.1          1.85             1.70             1.7   \n",
       "\n",
       "            Fator 1   Fator 2  Pontuação  \n",
       "estudante                                 \n",
       "Angélica  -0.833940 -1.168355  -0.817393  \n",
       "Letícia   -0.978529 -0.921521  -0.846716  \n",
       "Paola     -1.053492 -0.854085  -0.877059  \n",
       "Sandra    -1.071134 -1.218508  -0.979312  \n",
       "Frederico -1.071134 -1.218508  -0.979312  \n",
       "Ester     -1.305093 -0.999345  -1.071838  \n",
       "Carolina  -1.179553 -1.340920  -1.078206  \n",
       "Elaine    -1.179553 -1.340920  -1.078206  \n",
       "Viviane   -1.361086 -1.069499  -1.124646  \n",
       "Gilmar    -1.471547 -1.452891  -1.290097  "
      ]
     },
     "execution_count": 1727,
     "metadata": {},
     "output_type": "execute_result"
    }
   ],
   "source": [
    "ranking_pca(df_fatores,variancia_compart,2).tail(10)"
   ]
  },
  {
   "cell_type": "code",
   "execution_count": null,
   "metadata": {},
   "outputs": [],
   "source": []
  }
 ],
 "metadata": {
  "kernelspec": {
   "display_name": "Python 3",
   "language": "python",
   "name": "python3"
  },
  "language_info": {
   "codemirror_mode": {
    "name": "ipython",
    "version": 3
   },
   "file_extension": ".py",
   "mimetype": "text/x-python",
   "name": "python",
   "nbconvert_exporter": "python",
   "pygments_lexer": "ipython3",
   "version": "3.8.5"
  }
 },
 "nbformat": 4,
 "nbformat_minor": 4
}
